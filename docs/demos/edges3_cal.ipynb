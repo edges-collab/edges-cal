{
 "cells": [
  {
   "cell_type": "markdown",
   "metadata": {},
   "source": [
    "# Getting a Calibration for EDGES-3"
   ]
  },
  {
   "cell_type": "markdown",
   "metadata": {},
   "source": [
    "To create a calibration object for EDGES-3 data, follow the general steps in this tutorial."
   ]
  },
  {
   "cell_type": "code",
   "execution_count": 1,
   "metadata": {},
   "outputs": [],
   "source": [
    "from edges_io import io3\n",
    "from edges_io import TEST_DATA_PATH\n",
    "from edges_cal import CalibrationObservation\n",
    "from astropy import units as un\n",
    "import matplotlib.pyplot as plt\n",
    "import numpy as np\n",
    "import warnings\n",
    "import hickle"
   ]
  },
  {
   "cell_type": "markdown",
   "metadata": {},
   "source": [
    "The first thing you need to know is the root directory where all the EDGES3 data is stored. On `enterprise`, this is `/data5/edges/data/EDGES3_data/MRO`. We have copied\n",
    "a small little bit of that data (just calibration data) to this repo to be found at `TEST_DATA_PATH / edges3-mock-root`, so we can demonstrate the process here."
   ]
  },
  {
   "cell_type": "markdown",
   "metadata": {},
   "source": [
    "## Creating an I/O container"
   ]
  },
  {
   "cell_type": "markdown",
   "metadata": {},
   "source": [
    "To create a particular calibration object, you need to also specify the date on which\n",
    "the observations were taken:"
   ]
  },
  {
   "cell_type": "code",
   "execution_count": 2,
   "metadata": {},
   "outputs": [],
   "source": [
    "ROOT = TEST_DATA_PATH / 'edges3-mock-root'\n",
    "io_obs = io3.CalibrationObservation.from_date(\n",
    "    root_dir=ROOT,\n",
    "    year=2023,\n",
    "    day=70,\n",
    ")\n"
   ]
  },
  {
   "cell_type": "markdown",
   "metadata": {},
   "source": [
    "The object we just created is simply a small container that holds the relevant files in\n",
    "it, and *knows how to read them*. It doesn't do any modelling or calibration itself."
   ]
  },
  {
   "cell_type": "markdown",
   "metadata": {},
   "source": [
    "So, we can get out the files that we need:"
   ]
  },
  {
   "cell_type": "code",
   "execution_count": 3,
   "metadata": {},
   "outputs": [
    {
     "name": "stdout",
     "output_type": "stream",
     "text": [
      "ambient:\n",
      "  input: 2023_070_11_amb.s1p\n",
      "  open: 2023_070_11_O.s1p\n",
      "  short: 2023_070_11_S.s1p\n",
      "  match: 2023_070_11_L.s1p\n",
      "hot_load:\n",
      "  input: 2023_070_11_hot.s1p\n",
      "  open: 2023_070_11_O.s1p\n",
      "  short: 2023_070_11_S.s1p\n",
      "  match: 2023_070_11_L.s1p\n",
      "open:\n",
      "  input: 2023_070_11_open.s1p\n",
      "  open: 2023_070_11_O.s1p\n",
      "  short: 2023_070_11_S.s1p\n",
      "  match: 2023_070_11_L.s1p\n",
      "short:\n",
      "  input: 2023_070_11_short.s1p\n",
      "  open: 2023_070_11_O.s1p\n",
      "  short: 2023_070_11_S.s1p\n",
      "  match: 2023_070_11_L.s1p\n",
      "lna:\n",
      "  input: 2023_070_11_lna.s1p\n",
      "  open: 2023_070_11_lna_O.s1p\n",
      "  short: 2023_070_11_lna_S.s1p\n",
      "  match: 2023_070_11_lna_L.s1p\n"
     ]
    }
   ],
   "source": [
    "for load, filedict in io_obs.s11_files.items():\n",
    "    print(f\"{load}:\")\n",
    "\n",
    "    for kind, fl in filedict.items():\n",
    "        print(f\"  {kind}: {fl.relative_to(ROOT)}\")"
   ]
  },
  {
   "cell_type": "code",
   "execution_count": 4,
   "metadata": {},
   "outputs": [
    {
     "name": "stdout",
     "output_type": "stream",
     "text": [
      "ambient: mro/amb/2023/2023_070_12_43_06_amb.acq\n",
      "hot_load: mro/hot/2023/2023_070_15_39_25_hot.acq\n",
      "open: mro/open/2023/2023_070_18_35_43_open.acq\n",
      "short: mro/short/2023/2023_070_21_32_02_short.acq\n"
     ]
    }
   ],
   "source": [
    "for load, fl in io_obs.acq_files.items():\n",
    "    print(f\"{load}: {fl.relative_to(ROOT)}\")\n"
   ]
  },
  {
   "cell_type": "code",
   "execution_count": 5,
   "metadata": {},
   "outputs": [
    {
     "name": "stdout",
     "output_type": "stream",
     "text": [
      "Temperature File: temperature_logger/temperature.log\n"
     ]
    }
   ],
   "source": [
    "print(f\"Temperature File: {io_obs.temperature_file.relative_to(ROOT)}\")"
   ]
  },
  {
   "cell_type": "markdown",
   "metadata": {},
   "source": [
    "### Reading the data (not necessary)"
   ]
  },
  {
   "cell_type": "markdown",
   "metadata": {},
   "source": [
    "You shouldn't normally need to use the reading methods directly -- that should be done\n",
    "automatically when you create an `edges_cal.CalibrationObservation` object. However, \n",
    "here's how you would do it for each kind of data (spectra, S11 and temperature)."
   ]
  },
  {
   "cell_type": "markdown",
   "metadata": {},
   "source": [
    "#### ACQ Files (Spectra)"
   ]
  },
  {
   "cell_type": "code",
   "execution_count": 6,
   "metadata": {},
   "outputs": [],
   "source": [
    "amb_spectra = io_obs.get_spectra('ambient')"
   ]
  },
  {
   "cell_type": "markdown",
   "metadata": {},
   "source": [
    "The result of this is a `FieldSpectrum`, which is not a super helpful object here, but it does contain the data:"
   ]
  },
  {
   "cell_type": "code",
   "execution_count": 7,
   "metadata": {},
   "outputs": [
    {
     "name": "stderr",
     "output_type": "stream",
     "text": [
      "/home/steven/work/edges/read_acq/src/read_acq/read_acq.py:184: UserWarning: In file /home/steven/work/edges/edges-io/src/edges_io/test_data/edges3-mock-root/mro/amb/2023/2023_070_12_43_06_amb.acq, item ;--output_file:\n",
      " has no value\n",
      "  warnings.warn(f\"In file {fname}, item {line} has no value\")\n",
      "/home/steven/work/edges/read_acq/src/read_acq/read_acq.py:184: UserWarning: In file /home/steven/work/edges/edges-io/src/edges_io/test_data/edges3-mock-root/mro/amb/2023/2023_070_12_43_06_amb.acq, item ;--stop_time:\n",
      " has no value\n",
      "  warnings.warn(f\"In file {fname}, item {line} has no value\")\n"
     ]
    },
    {
     "data": {
      "text/plain": [
       "edges_io.h5.HDF5RawSpectrum"
      ]
     },
     "execution_count": 7,
     "metadata": {},
     "output_type": "execute_result"
    }
   ],
   "source": [
    "type(amb_spectra.data)"
   ]
  },
  {
   "cell_type": "markdown",
   "metadata": {},
   "source": [
    "This data attribute holds several useful things, for example:"
   ]
  },
  {
   "cell_type": "code",
   "execution_count": 8,
   "metadata": {},
   "outputs": [
    {
     "data": {
      "text/plain": [
       "<generator object _HDF5Part.keys at 0x7f418070cc10>"
      ]
     },
     "execution_count": 8,
     "metadata": {},
     "output_type": "execute_result"
    }
   ],
   "source": [
    "amb_spectra.data.keys()"
   ]
  },
  {
   "cell_type": "code",
   "execution_count": 9,
   "metadata": {},
   "outputs": [
    {
     "data": {
      "text/plain": [
       "Text(0, 0.5, 'Q (ratio of powers)')"
      ]
     },
     "execution_count": 9,
     "metadata": {},
     "output_type": "execute_result"
    },
    {
     "data": {
      "image/png": "[encoded data removed]",
      "text/plain": [
       "<Figure size 432x288 with 1 Axes>"
      ]
     },
     "metadata": {
      "needs_background": "light"
     },
     "output_type": "display_data"
    }
   ],
   "source": [
    "plt.plot(\n",
    "    amb_spectra.data['freq_ancillary']['frequencies'], \n",
    "    np.mean(amb_spectra.data['spectra']['Q'], axis=1)\n",
    ")\n",
    "plt.xlabel(\"Freq MHz\")\n",
    "plt.ylabel(\"Q (ratio of powers)\")\n"
   ]
  },
  {
   "cell_type": "markdown",
   "metadata": {},
   "source": [
    "#### S11 Files"
   ]
  },
  {
   "cell_type": "markdown",
   "metadata": {},
   "source": [
    "To read an S11 file, it's nicest to use the `SParams` object provided:"
   ]
  },
  {
   "cell_type": "code",
   "execution_count": 10,
   "metadata": {},
   "outputs": [],
   "source": [
    "from edges_io.vna import SParams"
   ]
  },
  {
   "cell_type": "code",
   "execution_count": 11,
   "metadata": {},
   "outputs": [],
   "source": [
    "s11 = SParams.from_s1p_file(io_obs.s11_files['lna']['input'])"
   ]
  },
  {
   "cell_type": "code",
   "execution_count": 12,
   "metadata": {},
   "outputs": [
    {
     "data": {
      "text/plain": [
       "Text(0, 0.5, '|S11|')"
      ]
     },
     "execution_count": 12,
     "metadata": {},
     "output_type": "execute_result"
    },
    {
     "data": {
      "image/png": "[encoded data removed]",
      "text/plain": [
       "<Figure size 432x288 with 1 Axes>"
      ]
     },
     "metadata": {
      "needs_background": "light"
     },
     "output_type": "display_data"
    }
   ],
   "source": [
    "plt.plot(s11.freq.to_value(\"MHz\"), np.abs(s11.s11))\n",
    "plt.xlabel(\"Freq MHz\")\n",
    "plt.ylabel(\"|S11|\")"
   ]
  },
  {
   "cell_type": "markdown",
   "metadata": {},
   "source": [
    "#### Temperature"
   ]
  },
  {
   "cell_type": "code",
   "execution_count": 13,
   "metadata": {},
   "outputs": [
    {
     "name": "stderr",
     "output_type": "stream",
     "text": [
      "/home/steven/work/edges/edges-io/src/edges_io/io3.py:124: UserWarning: Error parsing temperature log entry:\n",
      "2023_069_06\n",
      "Fri Mar 10 06:30:27 UTC 2023\n",
      "0 +3.500000e+01\n",
      "100 +3.783462e+01\n",
      "101 +3.833843e+01\n",
      "102 +1.236978e+02\n",
      "sent \n",
      " 103 106 -2.917386e+01\n",
      "150 +12.54\n",
      "152 +1.675\n",
      "\n",
      "  warnings.warn(str(e))\n"
     ]
    }
   ],
   "source": [
    "temps = io_obs.get_temperature_table()"
   ]
  },
  {
   "cell_type": "markdown",
   "metadata": {},
   "source": [
    "Note that the above error happens because of bad formatting in the file. The reader simply\n",
    "ignores this entry and moves on, so you shouldn't worry about it."
   ]
  },
  {
   "cell_type": "markdown",
   "metadata": {},
   "source": [
    "The resulting table of information is an astropy `QTable`, so it has some nice features:"
   ]
  },
  {
   "cell_type": "code",
   "execution_count": 14,
   "metadata": {},
   "outputs": [
    {
     "data": {
      "text/plain": [
       "<QTable length=827>\n",
       "         name          dtype  unit  class  \n",
       "--------------------- ------- ---- --------\n",
       "                 time  object          Time\n",
       "front_end_temperature float64    K Quantity\n",
       " amb_load_temperature float64    K Quantity\n",
       " hot_load_temperature float64    K Quantity\n",
       "inner_box_temperature float64    K Quantity\n",
       "      thermal_control float64        Column\n",
       "      battery_voltage float64        Column\n",
       "         pr59_current float64        Column"
      ]
     },
     "execution_count": 14,
     "metadata": {},
     "output_type": "execute_result"
    }
   ],
   "source": [
    "temps.info"
   ]
  },
  {
   "cell_type": "code",
   "execution_count": 15,
   "metadata": {},
   "outputs": [],
   "source": [
    "time_into_obs = temps['time'] - temps['time'][0]"
   ]
  },
  {
   "cell_type": "code",
   "execution_count": 16,
   "metadata": {},
   "outputs": [
    {
     "data": {
      "text/plain": [
       "False"
      ]
     },
     "execution_count": 16,
     "metadata": {},
     "output_type": "execute_result"
    }
   ],
   "source": [
    "np.any(np.isnan(temps['amb_load_temperature']))"
   ]
  },
  {
   "cell_type": "code",
   "execution_count": 17,
   "metadata": {},
   "outputs": [],
   "source": [
    "from astropy.time import Time"
   ]
  },
  {
   "cell_type": "code",
   "execution_count": 18,
   "metadata": {},
   "outputs": [],
   "source": [
    "start = Time(amb_spectra.data['time_ancillary']['times'][0,0], format='yday')\n",
    "end = Time(amb_spectra.data['time_ancillary']['times'][-1, -1], format='yday')\n"
   ]
  },
  {
   "cell_type": "code",
   "execution_count": 19,
   "metadata": {},
   "outputs": [
    {
     "data": {
      "text/plain": [
       "<Time object: scale='utc' format='yday' value=2023:070:12:43:06.000>"
      ]
     },
     "execution_count": 19,
     "metadata": {},
     "output_type": "execute_result"
    }
   ],
   "source": [
    "start"
   ]
  },
  {
   "cell_type": "code",
   "execution_count": 20,
   "metadata": {},
   "outputs": [
    {
     "data": {
      "text/plain": [
       "<Time object: scale='utc' format='yday' value=2023:070:12:43:53.000>"
      ]
     },
     "execution_count": 20,
     "metadata": {},
     "output_type": "execute_result"
    }
   ],
   "source": [
    "end"
   ]
  },
  {
   "cell_type": "code",
   "execution_count": 21,
   "metadata": {},
   "outputs": [
    {
     "data": {
      "text/plain": [
       "<TimeDelta object: scale='tai' format='jd' value=0.003611111111111065>"
      ]
     },
     "execution_count": 21,
     "metadata": {},
     "output_type": "execute_result"
    }
   ],
   "source": [
    "temps['time'][1] - temps['time'][0]"
   ]
  },
  {
   "cell_type": "code",
   "execution_count": 22,
   "metadata": {},
   "outputs": [
    {
     "data": {
      "text/plain": [
       "311.999999999996"
      ]
     },
     "execution_count": 22,
     "metadata": {},
     "output_type": "execute_result"
    }
   ],
   "source": [
    "0.003611111111111065 * 86400"
   ]
  },
  {
   "cell_type": "code",
   "execution_count": 23,
   "metadata": {},
   "outputs": [
    {
     "data": {
      "text/plain": [
       "array([False, False, False, False, False, False, False, False, False,\n",
       "       False, False, False, False, False, False, False, False, False,\n",
       "       False, False, False, False, False, False, False, False, False,\n",
       "       False, False, False, False, False, False, False, False, False,\n",
       "       False, False, False, False, False, False, False, False, False,\n",
       "       False, False, False, False, False, False, False, False, False,\n",
       "       False, False, False, False, False, False, False, False, False,\n",
       "       False, False, False, False, False, False, False, False, False,\n",
       "       False, False, False, False, False, False, False, False, False,\n",
       "       False, False, False, False, False, False, False, False, False,\n",
       "       False, False, False, False, False, False, False, False, False,\n",
       "       False, False, False, False, False, False, False, False, False,\n",
       "       False, False, False, False, False, False, False, False, False,\n",
       "       False, False, False, False, False, False, False, False, False,\n",
       "       False, False, False, False, False, False, False, False, False,\n",
       "       False, False, False, False, False, False, False, False, False,\n",
       "       False, False, False, False, False, False, False, False, False,\n",
       "       False, False, False, False, False, False, False, False, False,\n",
       "       False, False, False, False, False, False, False, False, False,\n",
       "       False, False, False, False, False, False, False, False, False,\n",
       "       False, False, False, False, False, False, False, False, False,\n",
       "       False, False, False, False, False, False, False, False, False,\n",
       "       False, False, False, False, False, False, False, False, False,\n",
       "       False, False, False, False, False, False, False, False, False,\n",
       "       False, False, False, False, False, False, False, False, False,\n",
       "       False, False, False, False, False, False, False, False, False,\n",
       "       False, False, False, False, False, False, False, False, False,\n",
       "       False, False, False, False, False, False, False, False, False,\n",
       "       False, False, False, False, False, False, False, False, False,\n",
       "       False, False, False, False, False, False, False, False, False,\n",
       "       False, False, False, False, False, False, False, False, False,\n",
       "       False, False, False, False, False, False, False, False, False,\n",
       "       False, False, False, False, False, False, False, False, False,\n",
       "       False, False, False, False, False, False, False, False, False,\n",
       "       False, False, False, False, False, False, False, False, False,\n",
       "       False, False, False, False, False, False, False, False, False,\n",
       "       False, False, False, False, False, False, False, False, False,\n",
       "       False, False, False, False, False, False, False, False, False,\n",
       "       False, False, False, False, False, False, False, False, False,\n",
       "       False, False, False, False, False, False, False, False, False,\n",
       "       False, False, False, False, False, False, False, False, False,\n",
       "       False, False, False, False, False, False, False, False, False,\n",
       "       False, False, False, False, False, False, False, False, False,\n",
       "       False, False, False, False, False, False, False, False, False,\n",
       "       False, False, False, False, False, False, False, False, False,\n",
       "       False, False, False, False, False, False, False, False, False,\n",
       "       False, False, False, False, False, False, False, False, False,\n",
       "       False, False, False, False, False, False, False, False, False,\n",
       "       False, False, False, False, False, False, False, False, False,\n",
       "       False, False, False, False, False, False, False, False, False,\n",
       "       False, False, False, False, False, False, False, False, False,\n",
       "       False, False, False, False, False, False, False, False, False,\n",
       "       False, False, False, False, False, False, False, False, False,\n",
       "       False, False, False, False, False, False, False, False, False,\n",
       "       False, False, False, False, False, False, False, False, False,\n",
       "       False, False, False, False, False, False, False, False, False,\n",
       "       False, False, False, False, False, False, False, False, False,\n",
       "       False, False, False, False, False, False, False, False, False,\n",
       "       False, False, False, False, False, False, False, False, False,\n",
       "       False, False, False, False, False, False, False, False, False,\n",
       "       False, False, False, False, False, False, False, False, False,\n",
       "       False, False, False, False, False, False, False, False, False,\n",
       "       False, False, False, False, False, False, False, False, False,\n",
       "       False, False, False, False, False, False, False, False, False,\n",
       "       False, False, False, False, False, False, False, False, False,\n",
       "       False, False, False, False, False, False, False, False, False,\n",
       "       False, False, False, False, False, False, False, False, False,\n",
       "       False, False, False, False, False, False, False, False, False,\n",
       "       False, False, False, False, False, False, False, False, False,\n",
       "       False, False, False, False, False, False, False, False, False,\n",
       "       False, False, False, False, False, False, False, False, False,\n",
       "       False, False, False, False, False, False, False, False, False,\n",
       "       False, False, False, False, False, False, False, False, False,\n",
       "       False, False, False, False, False, False, False, False, False,\n",
       "       False, False, False, False, False, False, False, False, False,\n",
       "       False, False, False, False, False, False, False, False, False,\n",
       "       False, False, False, False, False, False, False, False, False,\n",
       "       False, False, False, False, False, False, False, False, False,\n",
       "       False, False, False, False, False, False, False, False, False,\n",
       "       False, False, False, False, False, False, False, False, False,\n",
       "       False, False, False, False, False, False, False, False, False,\n",
       "       False, False, False, False, False, False, False, False, False,\n",
       "       False, False, False, False, False, False, False, False, False,\n",
       "       False, False, False, False, False, False, False, False, False,\n",
       "       False, False, False, False, False, False, False, False, False,\n",
       "       False, False, False, False, False, False, False, False, False,\n",
       "       False, False, False, False, False, False, False, False, False,\n",
       "       False, False, False, False, False, False, False, False, False,\n",
       "       False, False, False, False, False, False, False, False, False,\n",
       "       False, False, False, False, False, False, False, False, False,\n",
       "       False, False, False, False, False, False, False, False, False,\n",
       "       False, False, False, False, False, False, False, False])"
      ]
     },
     "execution_count": 23,
     "metadata": {},
     "output_type": "execute_result"
    }
   ],
   "source": [
    "(temps['time'] > start) & (temps['time'] < end)"
   ]
  },
  {
   "cell_type": "code",
   "execution_count": 24,
   "metadata": {},
   "outputs": [
    {
     "data": {
      "text/plain": [
       "2460015.0299305557"
      ]
     },
     "execution_count": 24,
     "metadata": {},
     "output_type": "execute_result"
    }
   ],
   "source": [
    "start.jd"
   ]
  },
  {
   "cell_type": "code",
   "execution_count": 25,
   "metadata": {},
   "outputs": [
    {
     "data": {
      "text/latex": [
       "$309.44815 \\; \\mathrm{K}$"
      ],
      "text/plain": [
       "<Quantity 309.44815076 K>"
      ]
     },
     "execution_count": 25,
     "metadata": {},
     "output_type": "execute_result"
    }
   ],
   "source": [
    "io3.get_mean_temperature(temps, load='amb')"
   ]
  },
  {
   "cell_type": "code",
   "execution_count": 26,
   "metadata": {},
   "outputs": [
    {
     "data": {
      "text/plain": [
       "Text(0, 0.5, 'Hot Load Temp [K]')"
      ]
     },
     "execution_count": 26,
     "metadata": {},
     "output_type": "execute_result"
    },
    {
     "data": {
      "image/png": "[encoded data removed]",
      "text/plain": [
       "<Figure size 432x288 with 1 Axes>"
      ]
     },
     "metadata": {
      "needs_background": "light"
     },
     "output_type": "display_data"
    }
   ],
   "source": [
    "plt.plot(time_into_obs.jd, temps['hot_load_temperature'], label='hot load')\n",
    "plt.plot(time_into_obs.jd, temps['amb_load_temperature'] + 90*un.K, label='ambient + 90K')\n",
    "\n",
    "plt.legend()\n",
    "plt.xlabel(\"Days into obs\")\n",
    "plt.ylabel(\"Hot Load Temp [K]\")"
   ]
  },
  {
   "cell_type": "markdown",
   "metadata": {},
   "source": [
    "## Creating the Calibration object"
   ]
  },
  {
   "cell_type": "markdown",
   "metadata": {},
   "source": [
    "Now, to create a calibration object (that actually does calibration)."
   ]
  },
  {
   "cell_type": "code",
   "execution_count": 27,
   "metadata": {},
   "outputs": [
    {
     "name": "stdout",
     "output_type": "stream",
     "text": [
      "SPEC KWARGS:  {'default': {'allow_closest_time': True, 'freq_bin_size': 1}}\n",
      "ALLOW CLOSEST TIME? True\n",
      "ALLOW CLOSEST TIME? True\n",
      "ALLOW CLOSEST TIME? True\n",
      "ALLOW CLOSEST TIME? True\n"
     ]
    }
   ],
   "source": [
    "with warnings.catch_warnings():\n",
    "    warnings.simplefilter(\"ignore\")\n",
    "    calobs = CalibrationObservation.from_edges3(\n",
    "        io_obj = io_obs,\n",
    "        f_low = 50*un.MHz,\n",
    "        f_high = 100*un.MHz,\n",
    "        spectrum_kwargs = {'default': {\"allow_closest_time\": True}}\n",
    "    )\n"
   ]
  },
  {
   "cell_type": "code",
   "execution_count": 28,
   "metadata": {},
   "outputs": [
    {
     "data": {
      "image/png": "[encoded data removed]",
      "text/plain": [
       "<Figure size 720x648 with 5 Axes>"
      ]
     },
     "metadata": {},
     "output_type": "display_data"
    }
   ],
   "source": [
    "calobs.plot_coefficients();"
   ]
  },
  {
   "cell_type": "markdown",
   "metadata": {},
   "source": [
    "To write out an object to be used by later analysis:"
   ]
  },
  {
   "cell_type": "code",
   "execution_count": 29,
   "metadata": {},
   "outputs": [],
   "source": [
    "cal = calobs.to_calibrator()"
   ]
  },
  {
   "cell_type": "code",
   "execution_count": 31,
   "metadata": {},
   "outputs": [
    {
     "name": "stderr",
     "output_type": "stream",
     "text": [
      "/home/steven/miniconda3/envs/edges/lib/python3.10/site-packages/hickle/lookup.py:1491: SerializedWarning: 'poly1d' type not understood, data is serialized:\n",
      "  warnings.warn(\n",
      "/home/steven/miniconda3/envs/edges/lib/python3.10/site-packages/hickle/lookup.py:1491: SerializedWarning: 'method' type not understood, data is serialized:\n",
      "  warnings.warn(\n",
      "/home/steven/miniconda3/envs/edges/lib/python3.10/site-packages/hickle/lookup.py:1491: SerializedWarning: 'frozendict' type not understood, data is serialized:\n",
      "  warnings.warn(\n",
      "/home/steven/miniconda3/envs/edges/lib/python3.10/site-packages/hickle/lookup.py:1491: SerializedWarning: 'partial' type not understood, data is serialized:\n",
      "  warnings.warn(\n"
     ]
    }
   ],
   "source": [
    "hickle.dump(cal, 'myCal.h5')"
   ]
  },
  {
   "cell_type": "code",
   "execution_count": 33,
   "metadata": {},
   "outputs": [],
   "source": [
    "reloaded = hickle.load(\"myCal.h5\")"
   ]
  }
 ],
 "metadata": {
  "kernelspec": {
   "display_name": "edges",
   "language": "python",
   "name": "edges"
  },
  "language_info": {
   "codemirror_mode": {
    "name": "ipython",
    "version": 3
   },
   "file_extension": ".py",
   "mimetype": "text/x-python",
   "name": "python",
   "nbconvert_exporter": "python",
   "pygments_lexer": "ipython3",
   "version": "3.10.5"
  }
 },
 "nbformat": 4,
 "nbformat_minor": 2
}
